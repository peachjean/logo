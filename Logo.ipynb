{
 "metadata": {
  "name": "Logo"
 },
 "nbformat": 3,
 "nbformat_minor": 0,
 "worksheets": [
  {
   "cells": [
    {
     "cell_type": "code",
     "collapsed": false,
     "input": [
      "input = {\"width\":8,\"height\":6,\"spacing\":1}"
     ],
     "language": "python",
     "metadata": {},
     "outputs": [],
     "prompt_number": 1
    },
    {
     "cell_type": "code",
     "collapsed": false,
     "input": [
      "import math\n",
      "\n",
      "def calculate_vertical_spacing(width, height, spacing):\n",
      "    down_angle = math.atan(width/(2.0*height))\n",
      "    vertical_spacing = 2 * s * math.cos(down_angle)\n",
      "    return vertical_spacing"
     ],
     "language": "python",
     "metadata": {},
     "outputs": [],
     "prompt_number": 6
    },
    {
     "cell_type": "code",
     "collapsed": false,
     "input": [
      "w = input[\"width\"]\n",
      "h = input[\"height\"]\n",
      "s = input[\"spacing\"]\n",
      "\n",
      "v = calculate_vertical_spacing(w, h, s)\n",
      "\n",
      "print (w, h, s, v)"
     ],
     "language": "python",
     "metadata": {},
     "outputs": [
      {
       "output_type": "stream",
       "stream": "stdout",
       "text": [
        "(8, 6, 1, 1.6641005886756874)\n"
       ]
      }
     ],
     "prompt_number": 8
    },
    {
     "cell_type": "code",
     "collapsed": false,
     "input": [],
     "language": "python",
     "metadata": {},
     "outputs": []
    }
   ],
   "metadata": {}
  }
 ]
}