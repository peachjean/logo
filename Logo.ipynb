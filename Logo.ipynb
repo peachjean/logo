{
 "metadata": {
  "name": "Logo"
 },
 "nbformat": 3,
 "nbformat_minor": 0,
 "worksheets": [
  {
   "cells": [
    {
     "cell_type": "code",
     "collapsed": false,
     "input": [
      "input = {\"width\":7,\"edge\":6,\"spacing\":1}"
     ],
     "language": "python",
     "metadata": {},
     "outputs": [],
     "prompt_number": 1
    },
    {
     "cell_type": "code",
     "collapsed": false,
     "input": [
      "import math\n",
      "\n",
      "def calculate_dimensions(width, spacing, height=None, edge=None):\n",
      "    if height is None:\n",
      "        if edge is None:\n",
      "            raise Error(\"Either height OR edge must be specified. You have specified neither.\")\n",
      "        height = math.sqrt(edge**2 - (width/2)**2)\n",
      "    elif edge is not None:\n",
      "        raise Error(\"Either height OR edge must be specified. You have specified both.\")\n",
      "    down_angle = math.atan(width/(2.0*height))\n",
      "    vertical_spacing = 2 * spacing * math.cos(down_angle)\n",
      "    return width, height, spacing, vertical_spacing"
     ],
     "language": "python",
     "metadata": {},
     "outputs": [],
     "prompt_number": 2
    },
    {
     "cell_type": "code",
     "collapsed": false,
     "input": [
      "w, h, s, v = calculate_dimensions(**input)\n",
      "\n",
      "print (w, h, s, v)\n",
      "\n",
      "slope = 2.0 * h / w\n",
      "\n",
      "print slope"
     ],
     "language": "python",
     "metadata": {},
     "outputs": [
      {
       "output_type": "stream",
       "stream": "stdout",
       "text": [
        "(7, 5.196152422706632, 1, 1.6587924393027291)\n",
        "1.48461497792\n"
       ]
      }
     ],
     "prompt_number": 3
    },
    {
     "cell_type": "code",
     "collapsed": false,
     "input": [
      "from numpy import where, dstack, diff, meshgrid, matrix\n",
      "\n",
      "def find_intersections(A, B):\n",
      "\n",
      "    # min, max and all for arrays\n",
      "    amin = lambda x1, x2: where(x1<x2, x1, x2)\n",
      "    amax = lambda x1, x2: where(x1>x2, x1, x2)\n",
      "    aall = lambda abools: dstack(abools).all(axis=2)\n",
      "    slope = lambda line: (lambda d: d[:,1]/d[:,0])(diff(line, axis=0))\n",
      "\n",
      "    x11, x21 = meshgrid(A[:-1, 0], B[:-1, 0])\n",
      "    x12, x22 = meshgrid(A[1:, 0], B[1:, 0])\n",
      "    y11, y21 = meshgrid(A[:-1, 1], B[:-1, 1])\n",
      "    y12, y22 = meshgrid(A[1:, 1], B[1:, 1])\n",
      "\n",
      "    m1, m2 = meshgrid(slope(A), slope(B))\n",
      "    m1inv, m2inv = 1/m1, 1/m2\n",
      "\n",
      "    yi = (m1*(x21-x11-m2inv*y21) + y11)/(1 - m1*m2inv)\n",
      "    xi = (yi - y21)*m2inv + x21\n",
      "\n",
      "    xconds = (amin(x11, x12) < xi, xi <= amax(x11, x12), \n",
      "              amin(x21, x22) < xi, xi <= amax(x21, x22) )\n",
      "    yconds = (amin(y11, y12) < yi, yi <= amax(y11, y12),\n",
      "              amin(y21, y22) < yi, yi <= amax(y21, y22) )\n",
      "\n",
      "    return xi[aall(xconds)], yi[aall(yconds)]\n",
      "\n",
      "def find_line_intersections(l1, l2):\n",
      "    return find_intersections(matrix([[0.0, l1(0.0)],[1.0, l2(1.0)]]), matrix([[0.0, l2(0.0)],[1.0, l2(1.0)]]))"
     ],
     "language": "python",
     "metadata": {},
     "outputs": [],
     "prompt_number": 7
    },
    {
     "cell_type": "code",
     "collapsed": false,
     "input": [
      "def B0(x):\n",
      "    \"\"\" \n",
      "    Endpoints:\n",
      "        L0, R0\n",
      "    \"\"\"\n",
      "    return h\n",
      "def B1(x):\n",
      "    \"\"\"\n",
      "    Endpoints:\n",
      "        L2, R1\n",
      "    \"\"\"\n",
      "    return h - s\n",
      "\n",
      "def R0(x):\n",
      "    \"\"\"\n",
      "    Endpoints:\n",
      "        B0, L0\n",
      "    \"\"\"\n",
      "    return slope * x\n",
      "def R1(x):\n",
      "    \"\"\"\n",
      "    Endpoints:\n",
      "        L2, B1\n",
      "    \"\"\"\n",
      "    return v + slope * x\n",
      "def R2(x):\n",
      "    \"\"\"\n",
      "    Endpoints:\n",
      "        L1, L2\n",
      "    \"\"\"\n",
      "    return 2*v + slope * x\n",
      "\n",
      "def L0(x):\n",
      "    \"\"\"\n",
      "    Endpoints:\n",
      "        R0, B0\n",
      "    \"\"\"\n",
      "    return -slope * x\n",
      "def L1(x):\n",
      "    \"\"\"\n",
      "    Endpoints:\n",
      "        R2, R0\n",
      "    \"\"\"\n",
      "    return v - slope * x\n",
      "def L2(x):\n",
      "    \"\"\"\n",
      "    Endpoints:\n",
      "        B0, R1\n",
      "    \"\"\"\n",
      "    return 2*v - slope * x\n"
     ],
     "language": "python",
     "metadata": {},
     "outputs": [],
     "prompt_number": 8
    },
    {
     "cell_type": "code",
     "collapsed": false,
     "input": [
      "find_line_intersections(L0, R0)"
     ],
     "language": "python",
     "metadata": {},
     "outputs": [],
     "prompt_number": "*"
    },
    {
     "cell_type": "code",
     "collapsed": false,
     "input": [
      "from pylab import *\n",
      "X = np.linspace(-w/2, w/2, w * 1000, endpoint=True)\n",
      "\n",
      "def calc(func):\n",
      "    return [func(x) for x in X]\n",
      "\n",
      "_B0 = calc(B0)\n",
      "_L0 = calc(L0)\n",
      "_R0 = calc(R0)\n",
      "_B1 = calc(B1)\n",
      "_R1 = calc(R1)\n",
      "_R2 = calc(R2)\n",
      "_L1 = calc(L1)\n",
      "_L2 = calc(L2)\n",
      "\n",
      "\n",
      "figure(figsize=(w, w+1), dpi=90)\n",
      "subplot(1, 1, 1, aspect=\"equal\")\n",
      "\n",
      "plot(X, _B0, color=\"black\", linewidth=1.0, linestyle=\"-\")\n",
      "plot(X, _L0, color=\"black\", linewidth=1.0, linestyle=\"-\")\n",
      "plot(X, _R0, color=\"black\", linewidth=1.0, linestyle=\"-\")\n",
      "\n",
      "plot(X, _B1, color=\"black\", linewidth=1.0, linestyle=\"-\")\n",
      "plot(X, _L1, color=\"black\", linewidth=1.0, linestyle=\"-\")\n",
      "plot(X, _L2, color=\"black\", linewidth=1.0, linestyle=\"-\")\n",
      "plot(X, _R1, color=\"black\", linewidth=1.0, linestyle=\"-\")\n",
      "plot(X, _R2, color=\"black\", linewidth=1.0, linestyle=\"-\")\n",
      "\n",
      "show()"
     ],
     "language": "python",
     "metadata": {},
     "outputs": [
      {
       "output_type": "display_data",
       "png": "[encoded data removed]"
      }
     ],
     "prompt_number": 22
    },
    {
     "cell_type": "code",
     "collapsed": false,
     "input": [
      "import numpy\n",
      "from PIL import Image\n",
      "from PIL.ImageDraw import Draw\n",
      "img = Image.new(\"RGBA\", (w, int(math.ceil(h))))\n",
      "draw = Draw(img)\n",
      "\n",
      "# img.save(\"foo.png\")\n",
      "imshow(numpy.asarray(img)) "
     ],
     "language": "python",
     "metadata": {},
     "outputs": [
      {
       "output_type": "pyout",
       "prompt_number": 13,
       "text": [
        "<matplotlib.image.AxesImage at 0x342ded0>"
       ]
      },
      {
       "output_type": "display_data",
       "png": "[encoded data removed]"
      }
     ],
     "prompt_number": 13
    },
    {
     "cell_type": "code",
     "collapsed": false,
     "input": [],
     "language": "python",
     "metadata": {},
     "outputs": []
    }
   ],
   "metadata": {}
  }
 ]
}