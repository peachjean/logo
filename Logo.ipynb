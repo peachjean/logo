{
 "metadata": {
  "name": "Logo"
 },
 "nbformat": 3,
 "nbformat_minor": 0,
 "worksheets": [
  {
   "cells": [
    {
     "cell_type": "code",
     "collapsed": false,
     "input": [
      "input = {\"width\":7.0,\"edge\":6.0,\"spacing\":1.0}"
     ],
     "language": "python",
     "metadata": {},
     "outputs": [],
     "prompt_number": 12
    },
    {
     "cell_type": "code",
     "collapsed": false,
     "input": [
      "import math\n",
      "\n",
      "def calculate_dimensions(width, spacing, height=None, edge=None):\n",
      "    if height is None:\n",
      "        if edge is None:\n",
      "            raise Error(\"Either height OR edge must be specified. You have specified neither.\")\n",
      "        height = math.sqrt(edge**2 - (width/2)**2)\n",
      "    elif edge is not None:\n",
      "        raise Error(\"Either height OR edge must be specified. You have specified both.\")\n",
      "    down_angle = math.atan(width/(2.0*height))\n",
      "    vertical_spacing = 2 * spacing * math.cos(down_angle)\n",
      "    return width, height, spacing, vertical_spacing"
     ],
     "language": "python",
     "metadata": {},
     "outputs": [],
     "prompt_number": 13
    },
    {
     "cell_type": "code",
     "collapsed": false,
     "input": [
      "w, h, s, v = calculate_dimensions(**input)\n",
      "\n",
      "print (w, h, s, v)\n",
      "\n",
      "slope = 2.0 * h / w\n",
      "\n",
      "print slope"
     ],
     "language": "python",
     "metadata": {},
     "outputs": [
      {
       "output_type": "stream",
       "stream": "stdout",
       "text": [
        "(7.0, 4.873397172404482, 1.0, 1.6244657241348273)\n",
        "1.39239919212\n"
       ]
      }
     ],
     "prompt_number": 14
    },
    {
     "cell_type": "code",
     "collapsed": false,
     "input": [
      "def B0(x):\n",
      "    \"\"\" \n",
      "    Endpoints:\n",
      "        L0, R0\n",
      "    \"\"\"\n",
      "    return h\n",
      "def B1(x):\n",
      "    \"\"\"\n",
      "    Endpoints:\n",
      "        L2, R1\n",
      "    \"\"\"\n",
      "    return h - s\n",
      "\n",
      "def R0(x):\n",
      "    \"\"\"\n",
      "    Endpoints:\n",
      "        B0, L0\n",
      "    \"\"\"\n",
      "    return slope * x\n",
      "def R1(x):\n",
      "    \"\"\"\n",
      "    Endpoints:\n",
      "        L2, B1\n",
      "    \"\"\"\n",
      "    return v + slope * x\n",
      "def R2(x):\n",
      "    \"\"\"\n",
      "    Endpoints:\n",
      "        L1, L2\n",
      "    \"\"\"\n",
      "    return 2*v + slope * x\n",
      "\n",
      "def L0(x):\n",
      "    \"\"\"\n",
      "    Endpoints:\n",
      "        R0, B0\n",
      "    \"\"\"\n",
      "    return -slope * x\n",
      "def L1(x):\n",
      "    \"\"\"\n",
      "    Endpoints:\n",
      "        R2, R0\n",
      "    \"\"\"\n",
      "    return v - slope * x\n",
      "def L2(x):\n",
      "    \"\"\"\n",
      "    Endpoints:\n",
      "        B0, R1\n",
      "    \"\"\"\n",
      "    return 2*v - slope * x\n",
      "\n",
      "# P polygon:\n",
      "#  B0xL0, B0xL2, L2xR2, R2xL1, L1xR0, R0xL0\n",
      "# J polygon:\n",
      "#  B0xL2, L2xB1, B1xR1, R1xL2, L2xR2, R2xL1, L1xR0, R0xB0"
     ],
     "language": "python",
     "metadata": {},
     "outputs": [],
     "prompt_number": 15
    },
    {
     "cell_type": "code",
     "collapsed": false,
     "input": [
      "from shapely.geometry import Point, LineString, LinearRing\n",
      "\n",
      "minX = -w/2 - 1\n",
      "maxX = w/2 + 1\n",
      "\n",
      "def line(func):\n",
      "    return LineString([(minX, func(minX)), (maxX, func(maxX))])\n",
      "\n",
      "b0 = line(B0)\n",
      "b1 = line(B1)\n",
      "l0 = line(L0)\n",
      "l1 = line(L1)\n",
      "l2 = line(L2)\n",
      "r0 = line(R0)\n",
      "r1 = line(R1)\n",
      "r2 = line(R2)\n",
      "\n",
      "print b0\n",
      "print b1\n",
      "print r0\n",
      "\n",
      "i1 = line(B0).intersection(line(R0))\n"
     ],
     "language": "python",
     "metadata": {},
     "outputs": [
      {
       "ename": "ImportError",
       "evalue": "cannot import name LinearRing",
       "output_type": "pyerr",
       "traceback": [
        "\u001b[0;31m---------------------------------------------------------------------------\u001b[0m\n\u001b[0;31mImportError\u001b[0m                               Traceback (most recent call last)",
        "\u001b[0;32m<ipython-input-62-365987fdd487>\u001b[0m in \u001b[0;36m<module>\u001b[0;34m()\u001b[0m\n\u001b[0;32m----> 1\u001b[0;31m \u001b[0;32mfrom\u001b[0m \u001b[0mshapely\u001b[0m\u001b[0;34m.\u001b[0m\u001b[0mgeometry\u001b[0m \u001b[0;32mimport\u001b[0m \u001b[0mPoint\u001b[0m\u001b[0;34m,\u001b[0m \u001b[0mLineString\u001b[0m\u001b[0;34m,\u001b[0m \u001b[0mLinearRing\u001b[0m\u001b[0;34m\u001b[0m\u001b[0m\n\u001b[0m\u001b[1;32m      2\u001b[0m \u001b[0;34m\u001b[0m\u001b[0m\n\u001b[1;32m      3\u001b[0m \u001b[0mminX\u001b[0m \u001b[0;34m=\u001b[0m \u001b[0;34m-\u001b[0m\u001b[0mw\u001b[0m\u001b[0;34m/\u001b[0m\u001b[0;36m2\u001b[0m \u001b[0;34m-\u001b[0m \u001b[0;36m1\u001b[0m\u001b[0;34m\u001b[0m\u001b[0m\n\u001b[1;32m      4\u001b[0m \u001b[0mmaxX\u001b[0m \u001b[0;34m=\u001b[0m \u001b[0mw\u001b[0m\u001b[0;34m/\u001b[0m\u001b[0;36m2\u001b[0m \u001b[0;34m+\u001b[0m \u001b[0;36m1\u001b[0m\u001b[0;34m\u001b[0m\u001b[0m\n\u001b[1;32m      5\u001b[0m \u001b[0;34m\u001b[0m\u001b[0m\n",
        "\u001b[0;31mImportError\u001b[0m: cannot import name LinearRing"
       ]
      }
     ],
     "prompt_number": 62
    },
    {
     "cell_type": "code",
     "collapsed": false,
     "input": [
      "canvas_width = (w + 2) * 1000\n",
      "canvas_height = (math.ceil(h) + 1) * 1000\n",
      "\n",
      "x_shift = canvas_width / 2.0\n",
      "y_shift = canvas_height\n",
      "\n",
      "print \"x_shift: %s, y_shift: %s\" % (x_shift, y_shift)\n",
      "\n",
      "def convert_to_pil(point):\n",
      "    \"\"\"\n",
      "    Need to scale * 1000\n",
      "    Need to shift (canvas_width / 2) to the right\n",
      "    Need to multiply y by -1, shift up by canvas_height\n",
      "    \"\"\"\n",
      "    (x, y) = point\n",
      "    x = (x * 1000) + x_shift\n",
      "    y = ((y * 1000) * -1) + y_shift\n",
      "    return (x, y)\n",
      "    \n",
      "def convert_line_to_pil(line):\n",
      "    return [convert_to_pil(point) for point in list(line.coords)]\n",
      "    \n",
      "print convert_to_pil(list(b1.coords)[0])\n",
      "\n",
      "print convert_line_to_pil(b0)\n",
      "\n"
     ],
     "language": "python",
     "metadata": {},
     "outputs": [
      {
       "output_type": "stream",
       "stream": "stdout",
       "text": [
        "x_shift: 4500.0, y_shift: 6000.0\n",
        "(0.0, 2126.6028275955186)\n",
        "[(0.0, 1126.6028275955186), (9000.0, 1126.6028275955186)]\n"
       ]
      }
     ],
     "prompt_number": 49
    },
    {
     "cell_type": "code",
     "collapsed": false,
     "input": [
      "def draw_line(line, draw):\n",
      "    pil_line = convert_line_to_pil(line)\n",
      "    print pil_line\n",
      "    draw.line(pil_line, fill=0, width=25)\n",
      "\n",
      "import numpy\n",
      "from PIL import Image\n",
      "from PIL.ImageDraw import Draw\n",
      "\n",
      "def draw_lines(lines):\n",
      "    \n",
      "    #TODO - figure out how to use transparency\n",
      "    img = Image.new(\"RGB\", (int(canvas_width), int(canvas_height)), color=\"white\")\n",
      "    draw = Draw(img)\n",
      "\n",
      "    for line in lines:\n",
      "        draw_line(line, draw)\n",
      "        \n",
      "    del draw\n",
      "    \n",
      "    #img.save(\"logo.png\", \"PNG\")\n",
      "    imshow(numpy.asarray(img)) \n",
      "\n",
      "draw_lines([b0, b1, l0, l1, l2, r0, r1, r2])\n"
     ],
     "language": "python",
     "metadata": {},
     "outputs": [
      {
       "output_type": "stream",
       "stream": "stdout",
       "text": [
        "[(0.0, 1126.6028275955186), (9000.0, 1126.6028275955186)]\n",
        "[(0.0, 2126.6028275955186), (9000.0, 2126.6028275955186)]\n",
        "[(0.0, -265.79636452004706), (9000.0, 12265.796364520047)]\n",
        "[(0.0, -1890.2620886548748), (9000.0, 10641.330640385218)]\n",
        "[(0.0, -3514.7278127897007), (9000.0, 9016.864916250393)]\n",
        "[(0.0, 12265.796364520047), (9000.0, -265.79636452004706)]\n",
        "[(0.0, 10641.330640385218), (9000.0, -1890.2620886548748)]\n",
        "[(0.0, 9016.864916250393), (9000.0, -3514.7278127897007)]\n"
       ]
      },
      {
       "output_type": "display_data",
       "png": "[encoded data removed]"
      }
     ],
     "prompt_number": 52
    },
    {
     "cell_type": "code",
     "collapsed": false,
     "input": [
      "# P polygon:\n",
      "#  B0xL0, B0xL2, L2xR2, R2xL1, L1xR0, R0xL0\n",
      "# J polygon:\n",
      "#  B0xL2, L2xB1, B1xR1, R1xL2, L2xR2, R2xL1, L1xR0, R0xB0\n",
      "\n",
      "def x(line1, line2):\n",
      "    p = line1.intersection(line2)\n",
      "    return (p.x, p.y)\n",
      "\n",
      "poly_p = LineString([x(b0,l0), x(b0,l2), x(l2,r2), x(r2,l1), x(l1,r0), x(r0,l0), x(b0,l0)])\n",
      "poly_j = LineString([x(b0,l2), x(l2,b1), x(b1,r1), x(r1,l2), x(l2,r2), x(r2,l1), x(l1,r0), x(r0,b0), x(b0,l2)])\n",
      "\n",
      "draw_lines([poly_p, poly_j])\n"
     ],
     "language": "python",
     "metadata": {},
     "outputs": [
      {
       "output_type": "stream",
       "stream": "stdout",
       "text": [
        "[(999.9999999999995, 1126.6028275955186), (3333.333333333333, 1126.6028275955186), (4500.0, 2751.068551730345), (3916.6666666666665, 3563.301413797759), (5083.333333333334, 5187.767137932587), (4500.0, 6000.0), (999.9999999999995, 1126.6028275955186)]\n",
        "[(3333.333333333333, 1126.6028275955186), (4051.5181797929413, 2126.6028275955186), (6115.148486873725, 2126.6028275955186), (5083.333333333334, 3563.301413797759), (4500.0, 2751.068551730345), (3916.6666666666665, 3563.301413797759), (5083.333333333334, 5187.767137932587), (8000.0, 1126.6028275955186), (3333.333333333333, 1126.6028275955186)]\n"
       ]
      },
      {
       "output_type": "display_data",
       "png": "[encoded data removed]"
      }
     ],
     "prompt_number": 66
    }
   ],
   "metadata": {}
  }
 ]
}