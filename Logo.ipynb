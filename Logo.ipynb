{
 "metadata": {
  "name": "Logo"
 },
 "nbformat": 3,
 "nbformat_minor": 0,
 "worksheets": [
  {
   "cells": [
    {
     "cell_type": "code",
     "collapsed": false,
     "input": [
      "input = {\"width\":8,\"height\":5,\"spacing\":1}"
     ],
     "language": "python",
     "metadata": {},
     "outputs": [],
     "prompt_number": 34
    },
    {
     "cell_type": "code",
     "collapsed": false,
     "input": [
      "import math\n",
      "\n",
      "def calculate_vertical_spacing(width, height, spacing):\n",
      "    down_angle = math.atan(width/(2.0*height))\n",
      "    vertical_spacing = 2 * s * math.cos(down_angle)\n",
      "    return vertical_spacing"
     ],
     "language": "python",
     "metadata": {},
     "outputs": [],
     "prompt_number": 35
    },
    {
     "cell_type": "code",
     "collapsed": false,
     "input": [
      "w = input[\"width\"]\n",
      "h = input[\"height\"]\n",
      "s = input[\"spacing\"]\n",
      "\n",
      "v = calculate_vertical_spacing(w, h, s)\n",
      "\n",
      "print (w, h, s, v)\n",
      "\n",
      "slope = 2.0 * h / w\n",
      "\n",
      "print slope"
     ],
     "language": "python",
     "metadata": {},
     "outputs": [
      {
       "output_type": "stream",
       "stream": "stdout",
       "text": [
        "(8, 5, 1, 1.5617376188860606)\n",
        "1.25\n"
       ]
      }
     ],
     "prompt_number": 36
    },
    {
     "cell_type": "code",
     "collapsed": false,
     "input": [
      "from pylab import *\n",
      "X = np.linspace(-w, w, w * 1000, endpoint=True)\n",
      "\n",
      "B0 = [h] * len(X)\n",
      "L0 = -slope * X\n",
      "R0 = slope * X\n",
      "B1 = [h - s] * len(X)\n",
      "R1 = v + slope * X\n",
      "R2 = 2 * v + slope * X\n",
      "L1 = v - slope * X\n",
      "L2 = 2 * v - slope * X\n",
      "\n",
      "figure(figsize=(8,6), dpi=90)\n",
      "subplot(1, 1, 1, aspect=\"equal\")\n",
      "\n",
      "plot(X, B0, color=\"black\", linewidth=1.0, linestyle=\"-\")\n",
      "plot(X, L0, color=\"black\", linewidth=1.0, linestyle=\"-\")\n",
      "plot(X, R0, color=\"black\", linewidth=1.0, linestyle=\"-\")\n",
      "\n",
      "plot(X, B1, color=\"black\", linewidth=1.0, linestyle=\"-\")\n",
      "plot(X, L1, color=\"black\", linewidth=1.0, linestyle=\"-\")\n",
      "plot(X, L2, color=\"black\", linewidth=1.0, linestyle=\"-\")\n",
      "plot(X, R1, color=\"black\", linewidth=1.0, linestyle=\"-\")\n",
      "plot(X, R2, color=\"black\", linewidth=1.0, linestyle=\"-\")\n",
      "\n",
      "show()"
     ],
     "language": "python",
     "metadata": {},
     "outputs": [],
     "prompt_number": "*"
    },
    {
     "cell_type": "code",
     "collapsed": false,
     "input": [
      "    "
     ],
     "language": "python",
     "metadata": {},
     "outputs": []
    }
   ],
   "metadata": {}
  }
 ]
}