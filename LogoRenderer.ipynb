{
 "metadata": {
  "name": "LogoRenderer"
 },
 "nbformat": 3,
 "nbformat_minor": 0,
 "worksheets": [
  {
   "cells": [
    {
     "cell_type": "code",
     "collapsed": false,
     "input": [
      "import math\n",
      "from shapely.geometry import Point, LineString\n",
      "\n",
      "import numpy\n",
      "from PIL import Image\n",
      "from PIL.ImageDraw import Draw\n",
      "from PIL.ImageColor import getrgb"
     ],
     "language": "python",
     "metadata": {},
     "outputs": [],
     "prompt_number": 87
    },
    {
     "cell_type": "code",
     "collapsed": false,
     "input": [
      "class _LineDefinitions:\n",
      "    def __init__(self, height, slope, spacing, vertical_spacing):\n",
      "        self.B0 = lambda x: height\n",
      "        self.B1 = lambda x: height - spacing\n",
      "        self.R0 = lambda x: slope * x\n",
      "        self.R1 = lambda x: vertical_spacing + slope * x\n",
      "        self.R2 = lambda x: 2 * vertical_spacing + slope * x\n",
      "        self.L0 = lambda x: -slope * x\n",
      "        self.L1 = lambda x: vertical_spacing - slope * x\n",
      "        self.L2 = lambda x: 2 * vertical_spacing - slope * x\n"
     ],
     "language": "python",
     "metadata": {},
     "outputs": [],
     "prompt_number": 24
    },
    {
     "cell_type": "code",
     "collapsed": false,
     "input": [
      "class _Lines:\n",
      "    def __init__(self, width, defs):\n",
      "        minX = -width/2 - 1\n",
      "        maxX = width/2 + 1\n",
      "        def line(func):\n",
      "            return LineString([(minX, func(minX)), (maxX, func(maxX))])\n",
      "        \n",
      "        self.b0 = line(defs.B0)\n",
      "        self.b1 = line(defs.B1)\n",
      "        self.r0 = line(defs.R0)\n",
      "        self.r1 = line(defs.R1)\n",
      "        self.r2 = line(defs.R2)\n",
      "        self.l0 = line(defs.L0)\n",
      "        self.l1 = line(defs.L1)\n",
      "        self.l2 = line(defs.L2)\n",
      "        \n",
      "    def as_list(self):\n",
      "        return [self.b0, self.b1, self.r0, self.r1, self.r2, self.l0, self.l1, self.l2]\n",
      "        "
     ],
     "language": "python",
     "metadata": {},
     "outputs": [],
     "prompt_number": 28
    },
    {
     "cell_type": "code",
     "collapsed": false,
     "input": [
      "class _PilUtil:\n",
      "    def __init__(self, width, height):\n",
      "        self.canvas_width = (width + 2) * 1000\n",
      "        self.canvas_height = (math.ceil(height) + 1) * 1000\n",
      "        self.x_shift = self.canvas_width / 2.0\n",
      "        self.y_shift = self.canvas_height\n",
      "        \n",
      "    def _convert_point_to_pil(self, point):\n",
      "        \"\"\"\n",
      "        Need to scale * 1000\n",
      "        Need to shift (canvas_width / 2) to the right\n",
      "        Need to multiply y by -1, shift up by canvas_height\n",
      "        \"\"\"\n",
      "        (x, y) = point\n",
      "        x = (x * 1000) + self.x_shift\n",
      "        y = ((y * 1000) * -1) + self.y_shift\n",
      "        return (x, y)\n",
      "    \n",
      "    def _convert_line_to_pil(self, line):\n",
      "        return [self._convert_point_to_pil(point) for point in list(line.coords)]\n",
      "    \n",
      "    def _draw_line(self, draw, line):\n",
      "        pil_line = self._convert_line_to_pil(line)\n",
      "        #print pil_line\n",
      "        draw.line(pil_line, fill=(0, 0, 0), width=25)\n",
      "\n",
      "    def _do_draw_items(self, f, show, items, draw_func):\n",
      "        img = Image.new(\"RGBA\", (int(self.canvas_width), int(self.canvas_height)), color=\"white\")\n",
      "        draw = Draw(img)\n",
      "        \n",
      "        for item in items:\n",
      "            draw_func(draw, item)\n",
      "        \n",
      "        del draw\n",
      "        \n",
      "        if f is not None:\n",
      "            img.save(f, \"PNG\")\n",
      "        if show:\n",
      "            figure()\n",
      "            imshow(numpy.asarray(img)) \n",
      "\n",
      "    def draw_lines(self, lines, f=None, show=True):\n",
      "        self._do_draw_items(f, show, lines, self._draw_line)\n",
      "        \n",
      "    def _draw_poly(self, draw, poly, fill):\n",
      "        pil_poly = self._convert_line_to_pil(poly)\n",
      "        #print pil_poly\n",
      "        draw.polygon(pil_poly, fill=fill)\n",
      "        \n",
      "    \n",
      "    def draw_shapes(self, shapes, f=None, show=True):\n",
      "        \"\"\"\n",
      "        shapes is a list of 2-item tuples, where each tuple is the polygon (as a LineString) and the color to fill that polygon\n",
      "        \"\"\"\n",
      "        self._do_draw_items(f, show, shapes, lambda draw, shape: self._draw_poly(draw, *shape))\n"
     ],
     "language": "python",
     "metadata": {},
     "outputs": [],
     "prompt_number": 85
    },
    {
     "cell_type": "code",
     "collapsed": false,
     "input": [
      "class LogoRenderer:\n",
      "    def __init__(self, width, spacing, height=None, edge=None):\n",
      "        if height is None:\n",
      "            if edge is None:\n",
      "                raise Error(\"Either height OR edge must be specified. You have specified neither.\")\n",
      "            height = math.sqrt(edge**2 - (width/2)**2)\n",
      "        elif edge is not None:\n",
      "            raise Error(\"Either height OR edge must be specified. You have specified both.\")\n",
      "        down_angle = math.atan(width/(2.0*height))\n",
      "        vertical_spacing = 2 * spacing * math.cos(down_angle)\n",
      "        slope = 2.0 * height / width\n",
      "        self.line_defs = _LineDefinitions(height, slope, spacing, vertical_spacing)\n",
      "        self.lines = _Lines(width, self.line_defs)\n",
      "        self._pil_util = _PilUtil(width, height)\n",
      "        \n",
      "        l = self.lines\n",
      "        def x(line1, line2):\n",
      "            p = line1.intersection(line2)\n",
      "            return (p.x, p.y)\n",
      "\n",
      "        self.poly_p = LineString([x(l.b0,l.l0), x(l.b0,l.l2), x(l.l2,l.r2), x(l.r2,l.l1), x(l.l1,l.r0), x(l.r0,l.l0), x(l.b0,l.l0)])\n",
      "        self.poly_j = LineString([x(l.b0,l.l2), x(l.l2,l.b1), x(l.b1,l.r1), x(l.r1,l.l2), x(l.l2,l.r2), x(l.r2,l.l1), x(l.l1,l.r0), x(l.r0,l.b0), x(l.b0,l.l2)])\n",
      "        \n",
      "    def draw_lines(self, f=None, show=True):\n",
      "        self._pil_util.draw_lines(self.lines.as_list(), f, show)\n",
      "        \n",
      "    def draw_shapes(self, f=None, show=True):\n",
      "        self._pil_util.draw_lines([self.poly_p, self.poly_j], f, show)\n",
      "        \n",
      "    def draw_and_color(self, p_color, j_color, f=None, show=True):\n",
      "        self._pil_util.draw_shapes([(self.poly_p, p_color), (self.poly_j, j_color)])\n",
      "        \n",
      "    \n",
      "    \n",
      "        "
     ],
     "language": "python",
     "metadata": {},
     "outputs": [],
     "prompt_number": 79
    },
    {
     "cell_type": "code",
     "collapsed": false,
     "input": [
      "lr = LogoRenderer(width=7.5, spacing=1.0, edge=6.0)\n",
      "#lr = LogoRenderer(width=6.0, spacing=0.85, height=4.0)\n",
      "\n",
      "lr.draw_lines()\n",
      "lr.draw_shapes()\n",
      "#lr.draw_and_color(\"black\", 0x3D8B37)\n",
      "lr.draw_and_color(\"black\", getrgb(\"#3D8B37\"))"
     ],
     "language": "python",
     "metadata": {},
     "outputs": [
      {
       "output_type": "stream",
       "stream": "stdout",
       "text": [
        "('R', 'G', 'B', 'A')\n",
        "('R', 'G', 'B', 'A')"
       ]
      },
      {
       "output_type": "stream",
       "stream": "stdout",
       "text": [
        "\n",
        "('R', 'G', 'B', 'A')"
       ]
      },
      {
       "output_type": "stream",
       "stream": "stdout",
       "text": [
        "\n"
       ]
      },
      {
       "output_type": "display_data",
       "png": "[encoded data removed]"
      },
      {
       "output_type": "display_data",
       "png": "[encoded data removed]"
      },
      {
       "output_type": "display_data",
       "png": "[encoded data removed]"
      }
     ],
     "prompt_number": 88
    },
    {
     "cell_type": "code",
     "collapsed": false,
     "input": [],
     "language": "python",
     "metadata": {},
     "outputs": []
    },
    {
     "cell_type": "code",
     "collapsed": false,
     "input": [],
     "language": "python",
     "metadata": {},
     "outputs": []
    }
   ],
   "metadata": {}
  }
 ]
}