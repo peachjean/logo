{
 "metadata": {
  "name": "LogoRenderer"
 },
 "nbformat": 3,
 "nbformat_minor": 0,
 "worksheets": [
  {
   "cells": [
    {
     "cell_type": "code",
     "collapsed": false,
     "input": [
      "import math\n",
      "\n",
      "class _LineDefinitions:\n",
      "    def __init__(self, height, slope, spacing, vertical_spacing):\n",
      "        self.B0 = lambda x: height\n",
      "        self.B1 = lambda x: height - spacing\n",
      "        self.R0 = lambda x: slope * x\n",
      "        self.R1 = lambda x: v + slope * x\n",
      "        self.R2 = lambda x: 2 * v + slope * x\n",
      "        self.L0 = lambda x: -slope * x\n",
      "        self.L1 = lambda x: v - slope * x\n",
      "        self.L2 = lambda x: 2 * v - slope * x\n",
      "\n",
      "class LogoRenderer:\n",
      "    def __init__(self, width, spacing, height=None, edge=None):\n",
      "        if height is None:\n",
      "            if edge is None:\n",
      "                raise Error(\"Either height OR edge must be specified. You have specified neither.\")\n",
      "            height = math.sqrt(edge**2 - (width/2)**2)\n",
      "        elif edge is not None:\n",
      "            raise Error(\"Either height OR edge must be specified. You have specified both.\")\n",
      "        down_angle = math.atan(width/(2.0*height))\n",
      "        vertical_spacing = 2 * spacing * math.cos(down_angle)\n",
      "        slope = 2.0 * height / width\n",
      "        self.line_defs = _LineDefinitions(height, slope, spacing, vertical_spacing)\n",
      "    \n",
      "    \n",
      "        "
     ],
     "language": "python",
     "metadata": {},
     "outputs": [],
     "prompt_number": 13
    },
    {
     "cell_type": "code",
     "collapsed": false,
     "input": [
      "lr = LogoRenderer(width=7.0, spacing=1.0, edge=6.0)"
     ],
     "language": "python",
     "metadata": {},
     "outputs": [],
     "prompt_number": 14
    },
    {
     "cell_type": "code",
     "collapsed": false,
     "input": [],
     "language": "python",
     "metadata": {},
     "outputs": []
    }
   ],
   "metadata": {}
  }
 ]
}